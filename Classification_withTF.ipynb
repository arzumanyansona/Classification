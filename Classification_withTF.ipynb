{
  "nbformat": 4,
  "nbformat_minor": 0,
  "metadata": {
    "colab": {
      "provenance": [],
      "gpuType": "T4",
      "authorship_tag": "ABX9TyMbEFznMGSEnBqA9JG6cXNa",
      "include_colab_link": true
    },
    "kernelspec": {
      "name": "python3",
      "display_name": "Python 3"
    },
    "language_info": {
      "name": "python"
    },
    "accelerator": "GPU"
  },
  "cells": [
    {
      "cell_type": "markdown",
      "metadata": {
        "id": "view-in-github",
        "colab_type": "text"
      },
      "source": [
        "<a href=\"https://colab.research.google.com/github/arzumanyansona/Classification/blob/main/Classification_withTF.ipynb\" target=\"_parent\"><img src=\"https://colab.research.google.com/assets/colab-badge.svg\" alt=\"Open In Colab\"/></a>"
      ]
    },
    {
      "cell_type": "code",
      "execution_count": 1,
      "metadata": {
        "id": "XWvg5ZeypSAC"
      },
      "outputs": [],
      "source": [
        "import tensorflow as tf"
      ]
    },
    {
      "cell_type": "code",
      "source": [
        "import numpy as np\n",
        "import pandas as pd\n",
        "import matplotlib.pyplot as plt"
      ],
      "metadata": {
        "id": "8rqgaXkppro8"
      },
      "execution_count": 2,
      "outputs": []
    },
    {
      "cell_type": "code",
      "source": [
        "print(tf.__version__)"
      ],
      "metadata": {
        "colab": {
          "base_uri": "https://localhost:8080/"
        },
        "id": "ltXPCKRUp7qM",
        "outputId": "29ef7fe5-85ec-4679-be9d-9960a14dc45a"
      },
      "execution_count": 3,
      "outputs": [
        {
          "output_type": "stream",
          "name": "stdout",
          "text": [
            "2.14.0\n"
          ]
        }
      ]
    },
    {
      "cell_type": "code",
      "source": [
        "from google.colab import drive\n",
        "drive.mount('/content/drive')"
      ],
      "metadata": {
        "colab": {
          "base_uri": "https://localhost:8080/"
        },
        "id": "j_43Z3PuqAcn",
        "outputId": "54a4a73c-62b2-4ef8-ff82-57d2ecc5e915"
      },
      "execution_count": 4,
      "outputs": [
        {
          "output_type": "stream",
          "name": "stdout",
          "text": [
            "Mounted at /content/drive\n"
          ]
        }
      ]
    },
    {
      "cell_type": "code",
      "source": [
        "data= pd.read_csv(\"/content/drive/MyDrive/hospital_deaths_train.csv\")"
      ],
      "metadata": {
        "id": "aWWBTxJ2rROq"
      },
      "execution_count": 5,
      "outputs": []
    },
    {
      "cell_type": "code",
      "source": [
        "data.head()"
      ],
      "metadata": {
        "colab": {
          "base_uri": "https://localhost:8080/",
          "height": 273
        },
        "id": "xT7fqVmjrpL0",
        "outputId": "de66e811-982a-4c66-a5a4-ec69fbf55bfa"
      },
      "execution_count": 6,
      "outputs": [
        {
          "output_type": "execute_result",
          "data": {
            "text/plain": [
              "   recordid  In-hospital_death   Age  Gender  Height  Weight  CCU  CSRU  SICU  \\\n",
              "0    135031                  0  69.0     1.0   172.7    63.7    0     0     0   \n",
              "1    132988                  0  72.0     1.0     NaN     NaN    0     0     0   \n",
              "2    136292                  0  29.0     0.0     NaN    90.0    0     0     0   \n",
              "3    133122                  0  73.0     1.0   175.3    89.1    0     1     0   \n",
              "4    142184                  0  74.0     0.0     NaN    78.0    0     0     1   \n",
              "\n",
              "   DiasABP_first  ...  SysABP_last  TroponinI_last  TroponinT_last  WBC_last  \\\n",
              "0           59.0  ...        119.0             4.6             NaN      17.2   \n",
              "1            NaN  ...          NaN             NaN            0.23      21.9   \n",
              "2           37.0  ...        124.0             NaN             NaN      11.1   \n",
              "3           58.0  ...        148.0             NaN             NaN      18.3   \n",
              "4           47.0  ...        187.0             NaN             NaN      17.7   \n",
              "\n",
              "   Weight_last  pH_last  MechVentStartTime  MechVentDuration  \\\n",
              "0         63.7     7.41              105.0            2580.0   \n",
              "1          NaN      NaN                NaN               NaN   \n",
              "2        106.3     7.40              103.0            2700.0   \n",
              "3         94.2     7.45              144.0            2115.0   \n",
              "4          NaN     7.26               75.0            2280.0   \n",
              "\n",
              "   MechVentLast8Hour  UrineOutputSum  \n",
              "0                1.0            12.0  \n",
              "1                NaN             NaN  \n",
              "2                1.0            14.0  \n",
              "3                0.0            12.0  \n",
              "4                0.0            18.0  \n",
              "\n",
              "[5 rows x 116 columns]"
            ],
            "text/html": [
              "\n",
              "  <div id=\"df-0d82ee0b-f41d-4721-8e5d-ce1876744704\" class=\"colab-df-container\">\n",
              "    <div>\n",
              "<style scoped>\n",
              "    .dataframe tbody tr th:only-of-type {\n",
              "        vertical-align: middle;\n",
              "    }\n",
              "\n",
              "    .dataframe tbody tr th {\n",
              "        vertical-align: top;\n",
              "    }\n",
              "\n",
              "    .dataframe thead th {\n",
              "        text-align: right;\n",
              "    }\n",
              "</style>\n",
              "<table border=\"1\" class=\"dataframe\">\n",
              "  <thead>\n",
              "    <tr style=\"text-align: right;\">\n",
              "      <th></th>\n",
              "      <th>recordid</th>\n",
              "      <th>In-hospital_death</th>\n",
              "      <th>Age</th>\n",
              "      <th>Gender</th>\n",
              "      <th>Height</th>\n",
              "      <th>Weight</th>\n",
              "      <th>CCU</th>\n",
              "      <th>CSRU</th>\n",
              "      <th>SICU</th>\n",
              "      <th>DiasABP_first</th>\n",
              "      <th>...</th>\n",
              "      <th>SysABP_last</th>\n",
              "      <th>TroponinI_last</th>\n",
              "      <th>TroponinT_last</th>\n",
              "      <th>WBC_last</th>\n",
              "      <th>Weight_last</th>\n",
              "      <th>pH_last</th>\n",
              "      <th>MechVentStartTime</th>\n",
              "      <th>MechVentDuration</th>\n",
              "      <th>MechVentLast8Hour</th>\n",
              "      <th>UrineOutputSum</th>\n",
              "    </tr>\n",
              "  </thead>\n",
              "  <tbody>\n",
              "    <tr>\n",
              "      <th>0</th>\n",
              "      <td>135031</td>\n",
              "      <td>0</td>\n",
              "      <td>69.0</td>\n",
              "      <td>1.0</td>\n",
              "      <td>172.7</td>\n",
              "      <td>63.7</td>\n",
              "      <td>0</td>\n",
              "      <td>0</td>\n",
              "      <td>0</td>\n",
              "      <td>59.0</td>\n",
              "      <td>...</td>\n",
              "      <td>119.0</td>\n",
              "      <td>4.6</td>\n",
              "      <td>NaN</td>\n",
              "      <td>17.2</td>\n",
              "      <td>63.7</td>\n",
              "      <td>7.41</td>\n",
              "      <td>105.0</td>\n",
              "      <td>2580.0</td>\n",
              "      <td>1.0</td>\n",
              "      <td>12.0</td>\n",
              "    </tr>\n",
              "    <tr>\n",
              "      <th>1</th>\n",
              "      <td>132988</td>\n",
              "      <td>0</td>\n",
              "      <td>72.0</td>\n",
              "      <td>1.0</td>\n",
              "      <td>NaN</td>\n",
              "      <td>NaN</td>\n",
              "      <td>0</td>\n",
              "      <td>0</td>\n",
              "      <td>0</td>\n",
              "      <td>NaN</td>\n",
              "      <td>...</td>\n",
              "      <td>NaN</td>\n",
              "      <td>NaN</td>\n",
              "      <td>0.23</td>\n",
              "      <td>21.9</td>\n",
              "      <td>NaN</td>\n",
              "      <td>NaN</td>\n",
              "      <td>NaN</td>\n",
              "      <td>NaN</td>\n",
              "      <td>NaN</td>\n",
              "      <td>NaN</td>\n",
              "    </tr>\n",
              "    <tr>\n",
              "      <th>2</th>\n",
              "      <td>136292</td>\n",
              "      <td>0</td>\n",
              "      <td>29.0</td>\n",
              "      <td>0.0</td>\n",
              "      <td>NaN</td>\n",
              "      <td>90.0</td>\n",
              "      <td>0</td>\n",
              "      <td>0</td>\n",
              "      <td>0</td>\n",
              "      <td>37.0</td>\n",
              "      <td>...</td>\n",
              "      <td>124.0</td>\n",
              "      <td>NaN</td>\n",
              "      <td>NaN</td>\n",
              "      <td>11.1</td>\n",
              "      <td>106.3</td>\n",
              "      <td>7.40</td>\n",
              "      <td>103.0</td>\n",
              "      <td>2700.0</td>\n",
              "      <td>1.0</td>\n",
              "      <td>14.0</td>\n",
              "    </tr>\n",
              "    <tr>\n",
              "      <th>3</th>\n",
              "      <td>133122</td>\n",
              "      <td>0</td>\n",
              "      <td>73.0</td>\n",
              "      <td>1.0</td>\n",
              "      <td>175.3</td>\n",
              "      <td>89.1</td>\n",
              "      <td>0</td>\n",
              "      <td>1</td>\n",
              "      <td>0</td>\n",
              "      <td>58.0</td>\n",
              "      <td>...</td>\n",
              "      <td>148.0</td>\n",
              "      <td>NaN</td>\n",
              "      <td>NaN</td>\n",
              "      <td>18.3</td>\n",
              "      <td>94.2</td>\n",
              "      <td>7.45</td>\n",
              "      <td>144.0</td>\n",
              "      <td>2115.0</td>\n",
              "      <td>0.0</td>\n",
              "      <td>12.0</td>\n",
              "    </tr>\n",
              "    <tr>\n",
              "      <th>4</th>\n",
              "      <td>142184</td>\n",
              "      <td>0</td>\n",
              "      <td>74.0</td>\n",
              "      <td>0.0</td>\n",
              "      <td>NaN</td>\n",
              "      <td>78.0</td>\n",
              "      <td>0</td>\n",
              "      <td>0</td>\n",
              "      <td>1</td>\n",
              "      <td>47.0</td>\n",
              "      <td>...</td>\n",
              "      <td>187.0</td>\n",
              "      <td>NaN</td>\n",
              "      <td>NaN</td>\n",
              "      <td>17.7</td>\n",
              "      <td>NaN</td>\n",
              "      <td>7.26</td>\n",
              "      <td>75.0</td>\n",
              "      <td>2280.0</td>\n",
              "      <td>0.0</td>\n",
              "      <td>18.0</td>\n",
              "    </tr>\n",
              "  </tbody>\n",
              "</table>\n",
              "<p>5 rows × 116 columns</p>\n",
              "</div>\n",
              "    <div class=\"colab-df-buttons\">\n",
              "\n",
              "  <div class=\"colab-df-container\">\n",
              "    <button class=\"colab-df-convert\" onclick=\"convertToInteractive('df-0d82ee0b-f41d-4721-8e5d-ce1876744704')\"\n",
              "            title=\"Convert this dataframe to an interactive table.\"\n",
              "            style=\"display:none;\">\n",
              "\n",
              "  <svg xmlns=\"http://www.w3.org/2000/svg\" height=\"24px\" viewBox=\"0 -960 960 960\">\n",
              "    <path d=\"M120-120v-720h720v720H120Zm60-500h600v-160H180v160Zm220 220h160v-160H400v160Zm0 220h160v-160H400v160ZM180-400h160v-160H180v160Zm440 0h160v-160H620v160ZM180-180h160v-160H180v160Zm440 0h160v-160H620v160Z\"/>\n",
              "  </svg>\n",
              "    </button>\n",
              "\n",
              "  <style>\n",
              "    .colab-df-container {\n",
              "      display:flex;\n",
              "      gap: 12px;\n",
              "    }\n",
              "\n",
              "    .colab-df-convert {\n",
              "      background-color: #E8F0FE;\n",
              "      border: none;\n",
              "      border-radius: 50%;\n",
              "      cursor: pointer;\n",
              "      display: none;\n",
              "      fill: #1967D2;\n",
              "      height: 32px;\n",
              "      padding: 0 0 0 0;\n",
              "      width: 32px;\n",
              "    }\n",
              "\n",
              "    .colab-df-convert:hover {\n",
              "      background-color: #E2EBFA;\n",
              "      box-shadow: 0px 1px 2px rgba(60, 64, 67, 0.3), 0px 1px 3px 1px rgba(60, 64, 67, 0.15);\n",
              "      fill: #174EA6;\n",
              "    }\n",
              "\n",
              "    .colab-df-buttons div {\n",
              "      margin-bottom: 4px;\n",
              "    }\n",
              "\n",
              "    [theme=dark] .colab-df-convert {\n",
              "      background-color: #3B4455;\n",
              "      fill: #D2E3FC;\n",
              "    }\n",
              "\n",
              "    [theme=dark] .colab-df-convert:hover {\n",
              "      background-color: #434B5C;\n",
              "      box-shadow: 0px 1px 3px 1px rgba(0, 0, 0, 0.15);\n",
              "      filter: drop-shadow(0px 1px 2px rgba(0, 0, 0, 0.3));\n",
              "      fill: #FFFFFF;\n",
              "    }\n",
              "  </style>\n",
              "\n",
              "    <script>\n",
              "      const buttonEl =\n",
              "        document.querySelector('#df-0d82ee0b-f41d-4721-8e5d-ce1876744704 button.colab-df-convert');\n",
              "      buttonEl.style.display =\n",
              "        google.colab.kernel.accessAllowed ? 'block' : 'none';\n",
              "\n",
              "      async function convertToInteractive(key) {\n",
              "        const element = document.querySelector('#df-0d82ee0b-f41d-4721-8e5d-ce1876744704');\n",
              "        const dataTable =\n",
              "          await google.colab.kernel.invokeFunction('convertToInteractive',\n",
              "                                                    [key], {});\n",
              "        if (!dataTable) return;\n",
              "\n",
              "        const docLinkHtml = 'Like what you see? Visit the ' +\n",
              "          '<a target=\"_blank\" href=https://colab.research.google.com/notebooks/data_table.ipynb>data table notebook</a>'\n",
              "          + ' to learn more about interactive tables.';\n",
              "        element.innerHTML = '';\n",
              "        dataTable['output_type'] = 'display_data';\n",
              "        await google.colab.output.renderOutput(dataTable, element);\n",
              "        const docLink = document.createElement('div');\n",
              "        docLink.innerHTML = docLinkHtml;\n",
              "        element.appendChild(docLink);\n",
              "      }\n",
              "    </script>\n",
              "  </div>\n",
              "\n",
              "\n",
              "<div id=\"df-293649f8-0ce6-41a5-8d85-f17c2fcdf88d\">\n",
              "  <button class=\"colab-df-quickchart\" onclick=\"quickchart('df-293649f8-0ce6-41a5-8d85-f17c2fcdf88d')\"\n",
              "            title=\"Suggest charts\"\n",
              "            style=\"display:none;\">\n",
              "\n",
              "<svg xmlns=\"http://www.w3.org/2000/svg\" height=\"24px\"viewBox=\"0 0 24 24\"\n",
              "     width=\"24px\">\n",
              "    <g>\n",
              "        <path d=\"M19 3H5c-1.1 0-2 .9-2 2v14c0 1.1.9 2 2 2h14c1.1 0 2-.9 2-2V5c0-1.1-.9-2-2-2zM9 17H7v-7h2v7zm4 0h-2V7h2v10zm4 0h-2v-4h2v4z\"/>\n",
              "    </g>\n",
              "</svg>\n",
              "  </button>\n",
              "\n",
              "<style>\n",
              "  .colab-df-quickchart {\n",
              "      --bg-color: #E8F0FE;\n",
              "      --fill-color: #1967D2;\n",
              "      --hover-bg-color: #E2EBFA;\n",
              "      --hover-fill-color: #174EA6;\n",
              "      --disabled-fill-color: #AAA;\n",
              "      --disabled-bg-color: #DDD;\n",
              "  }\n",
              "\n",
              "  [theme=dark] .colab-df-quickchart {\n",
              "      --bg-color: #3B4455;\n",
              "      --fill-color: #D2E3FC;\n",
              "      --hover-bg-color: #434B5C;\n",
              "      --hover-fill-color: #FFFFFF;\n",
              "      --disabled-bg-color: #3B4455;\n",
              "      --disabled-fill-color: #666;\n",
              "  }\n",
              "\n",
              "  .colab-df-quickchart {\n",
              "    background-color: var(--bg-color);\n",
              "    border: none;\n",
              "    border-radius: 50%;\n",
              "    cursor: pointer;\n",
              "    display: none;\n",
              "    fill: var(--fill-color);\n",
              "    height: 32px;\n",
              "    padding: 0;\n",
              "    width: 32px;\n",
              "  }\n",
              "\n",
              "  .colab-df-quickchart:hover {\n",
              "    background-color: var(--hover-bg-color);\n",
              "    box-shadow: 0 1px 2px rgba(60, 64, 67, 0.3), 0 1px 3px 1px rgba(60, 64, 67, 0.15);\n",
              "    fill: var(--button-hover-fill-color);\n",
              "  }\n",
              "\n",
              "  .colab-df-quickchart-complete:disabled,\n",
              "  .colab-df-quickchart-complete:disabled:hover {\n",
              "    background-color: var(--disabled-bg-color);\n",
              "    fill: var(--disabled-fill-color);\n",
              "    box-shadow: none;\n",
              "  }\n",
              "\n",
              "  .colab-df-spinner {\n",
              "    border: 2px solid var(--fill-color);\n",
              "    border-color: transparent;\n",
              "    border-bottom-color: var(--fill-color);\n",
              "    animation:\n",
              "      spin 1s steps(1) infinite;\n",
              "  }\n",
              "\n",
              "  @keyframes spin {\n",
              "    0% {\n",
              "      border-color: transparent;\n",
              "      border-bottom-color: var(--fill-color);\n",
              "      border-left-color: var(--fill-color);\n",
              "    }\n",
              "    20% {\n",
              "      border-color: transparent;\n",
              "      border-left-color: var(--fill-color);\n",
              "      border-top-color: var(--fill-color);\n",
              "    }\n",
              "    30% {\n",
              "      border-color: transparent;\n",
              "      border-left-color: var(--fill-color);\n",
              "      border-top-color: var(--fill-color);\n",
              "      border-right-color: var(--fill-color);\n",
              "    }\n",
              "    40% {\n",
              "      border-color: transparent;\n",
              "      border-right-color: var(--fill-color);\n",
              "      border-top-color: var(--fill-color);\n",
              "    }\n",
              "    60% {\n",
              "      border-color: transparent;\n",
              "      border-right-color: var(--fill-color);\n",
              "    }\n",
              "    80% {\n",
              "      border-color: transparent;\n",
              "      border-right-color: var(--fill-color);\n",
              "      border-bottom-color: var(--fill-color);\n",
              "    }\n",
              "    90% {\n",
              "      border-color: transparent;\n",
              "      border-bottom-color: var(--fill-color);\n",
              "    }\n",
              "  }\n",
              "</style>\n",
              "\n",
              "  <script>\n",
              "    async function quickchart(key) {\n",
              "      const quickchartButtonEl =\n",
              "        document.querySelector('#' + key + ' button');\n",
              "      quickchartButtonEl.disabled = true;  // To prevent multiple clicks.\n",
              "      quickchartButtonEl.classList.add('colab-df-spinner');\n",
              "      try {\n",
              "        const charts = await google.colab.kernel.invokeFunction(\n",
              "            'suggestCharts', [key], {});\n",
              "      } catch (error) {\n",
              "        console.error('Error during call to suggestCharts:', error);\n",
              "      }\n",
              "      quickchartButtonEl.classList.remove('colab-df-spinner');\n",
              "      quickchartButtonEl.classList.add('colab-df-quickchart-complete');\n",
              "    }\n",
              "    (() => {\n",
              "      let quickchartButtonEl =\n",
              "        document.querySelector('#df-293649f8-0ce6-41a5-8d85-f17c2fcdf88d button');\n",
              "      quickchartButtonEl.style.display =\n",
              "        google.colab.kernel.accessAllowed ? 'block' : 'none';\n",
              "    })();\n",
              "  </script>\n",
              "</div>\n",
              "    </div>\n",
              "  </div>\n"
            ]
          },
          "metadata": {},
          "execution_count": 6
        }
      ]
    },
    {
      "cell_type": "code",
      "source": [
        "lst_of_col= list(data.keys())\n"
      ],
      "metadata": {
        "id": "p3NzThwNsgSR"
      },
      "execution_count": 7,
      "outputs": []
    },
    {
      "cell_type": "code",
      "source": [
        "data.isnull().any()"
      ],
      "metadata": {
        "colab": {
          "base_uri": "https://localhost:8080/"
        },
        "id": "8s3r5B88ry4y",
        "outputId": "2491dd96-e8f8-4a9c-d2d5-5af02a11fa8f"
      },
      "execution_count": 8,
      "outputs": [
        {
          "output_type": "execute_result",
          "data": {
            "text/plain": [
              "recordid             False\n",
              "In-hospital_death    False\n",
              "Age                  False\n",
              "Gender                True\n",
              "Height                True\n",
              "                     ...  \n",
              "pH_last               True\n",
              "MechVentStartTime     True\n",
              "MechVentDuration      True\n",
              "MechVentLast8Hour     True\n",
              "UrineOutputSum        True\n",
              "Length: 116, dtype: bool"
            ]
          },
          "metadata": {},
          "execution_count": 8
        }
      ]
    },
    {
      "cell_type": "code",
      "source": [
        "for i in lst_of_col:\n",
        "  if data[i].isnull().any()==True:\n",
        "    data[i].fillna(data[i].mean(), inplace=True)"
      ],
      "metadata": {
        "id": "lwHL8e8_r-rD"
      },
      "execution_count": 9,
      "outputs": []
    },
    {
      "cell_type": "code",
      "source": [
        "data.isnull().any().any()"
      ],
      "metadata": {
        "colab": {
          "base_uri": "https://localhost:8080/"
        },
        "id": "04ZfwbmiuxuY",
        "outputId": "a3fb18c8-e67d-4245-bb5d-dc1171d8b6d2"
      },
      "execution_count": 10,
      "outputs": [
        {
          "output_type": "execute_result",
          "data": {
            "text/plain": [
              "False"
            ]
          },
          "metadata": {},
          "execution_count": 10
        }
      ]
    },
    {
      "cell_type": "code",
      "source": [
        "target = data[\"In-hospital_death\"]"
      ],
      "metadata": {
        "id": "3gyoA1uDvQx1"
      },
      "execution_count": 11,
      "outputs": []
    },
    {
      "cell_type": "code",
      "source": [
        "data = data.drop([\"In-hospital_death\"], axis =1)"
      ],
      "metadata": {
        "id": "5uM5tFZOyYFF"
      },
      "execution_count": 12,
      "outputs": []
    },
    {
      "cell_type": "code",
      "source": [
        "lst_of_col= list(data.keys())\n",
        "len(lst_of_col)"
      ],
      "metadata": {
        "colab": {
          "base_uri": "https://localhost:8080/"
        },
        "id": "szHM4hnXHPWr",
        "outputId": "6797d31b-8d91-4aab-c4ee-9886136ad87c"
      },
      "execution_count": 13,
      "outputs": [
        {
          "output_type": "execute_result",
          "data": {
            "text/plain": [
              "115"
            ]
          },
          "metadata": {},
          "execution_count": 13
        }
      ]
    },
    {
      "cell_type": "code",
      "source": [
        "from sklearn.preprocessing import MinMaxScaler,StandardScaler\n",
        "# scaler = MinMaxScaler()\n",
        "scaler = StandardScaler()"
      ],
      "metadata": {
        "id": "VjIxp83XzuIi"
      },
      "execution_count": 38,
      "outputs": []
    },
    {
      "cell_type": "code",
      "source": [
        "data.dtypes"
      ],
      "metadata": {
        "colab": {
          "base_uri": "https://localhost:8080/"
        },
        "id": "gjTimRpj3cs_",
        "outputId": "69ae2a29-c5d2-472c-9ab9-3202a89d9cfe"
      },
      "execution_count": 39,
      "outputs": [
        {
          "output_type": "execute_result",
          "data": {
            "text/plain": [
              "recordid               int64\n",
              "Age                  float64\n",
              "Gender               float64\n",
              "Height               float64\n",
              "Weight               float64\n",
              "                      ...   \n",
              "pH_last              float64\n",
              "MechVentStartTime    float64\n",
              "MechVentDuration     float64\n",
              "MechVentLast8Hour    float64\n",
              "UrineOutputSum       float64\n",
              "Length: 115, dtype: object"
            ]
          },
          "metadata": {},
          "execution_count": 39
        }
      ]
    },
    {
      "cell_type": "code",
      "source": [
        "for j in lst_of_col:\n",
        "  if data[j].dtypes == \"object\":\n",
        "   pd.to_numeric(data[j], downcast='float')\n"
      ],
      "metadata": {
        "id": "7cTnVe9I5P91"
      },
      "execution_count": 40,
      "outputs": []
    },
    {
      "cell_type": "code",
      "source": [
        "data.dtypes"
      ],
      "metadata": {
        "colab": {
          "base_uri": "https://localhost:8080/"
        },
        "id": "WPAQffLISGb1",
        "outputId": "9605035b-07e7-4672-aa88-47c0d96b5a31"
      },
      "execution_count": 41,
      "outputs": [
        {
          "output_type": "execute_result",
          "data": {
            "text/plain": [
              "recordid               int64\n",
              "Age                  float64\n",
              "Gender               float64\n",
              "Height               float64\n",
              "Weight               float64\n",
              "                      ...   \n",
              "pH_last              float64\n",
              "MechVentStartTime    float64\n",
              "MechVentDuration     float64\n",
              "MechVentLast8Hour    float64\n",
              "UrineOutputSum       float64\n",
              "Length: 115, dtype: object"
            ]
          },
          "metadata": {},
          "execution_count": 41
        }
      ]
    },
    {
      "cell_type": "code",
      "source": [
        "scaler.fit(data)\n",
        "scaled_data = scaler.transform(data)"
      ],
      "metadata": {
        "id": "glNQltSH1bV_"
      },
      "execution_count": 42,
      "outputs": []
    },
    {
      "cell_type": "code",
      "source": [
        "from sklearn.model_selection import train_test_split\n",
        "X_train, X_test, y_train, y_test = train_test_split(data, target, test_size=0.2, random_state=1)"
      ],
      "metadata": {
        "id": "NVBuwLPg1ra3"
      },
      "execution_count": 43,
      "outputs": []
    },
    {
      "cell_type": "code",
      "source": [
        "X_train.shape"
      ],
      "metadata": {
        "colab": {
          "base_uri": "https://localhost:8080/"
        },
        "id": "VSlUw_YXJwm3",
        "outputId": "f31cb7de-13f4-4095-f77c-ab2210c24e79"
      },
      "execution_count": 44,
      "outputs": [
        {
          "output_type": "execute_result",
          "data": {
            "text/plain": [
              "(2600, 115)"
            ]
          },
          "metadata": {},
          "execution_count": 44
        }
      ]
    },
    {
      "cell_type": "code",
      "source": [
        "import keras\n",
        "from keras.models import Sequential\n",
        "from keras.layers import Dense\n",
        "basic_model = Sequential()"
      ],
      "metadata": {
        "id": "qAop5SIlJ1GC"
      },
      "execution_count": 45,
      "outputs": []
    },
    {
      "cell_type": "code",
      "source": [
        "basic_model.add(Dense(units=16, activation='relu', input_shape=(115,)))"
      ],
      "metadata": {
        "id": "RNYrcjEJJ9UC"
      },
      "execution_count": 46,
      "outputs": []
    },
    {
      "cell_type": "code",
      "source": [
        "basic_model.add(Dense(1, activation='sigmoid'))"
      ],
      "metadata": {
        "id": "hkSgzfr9KdLo"
      },
      "execution_count": 47,
      "outputs": []
    },
    {
      "cell_type": "code",
      "source": [
        "adam = keras.optimizers.Adam(learning_rate=0.001)"
      ],
      "metadata": {
        "id": "U3fOUfHLKhKe"
      },
      "execution_count": 48,
      "outputs": []
    },
    {
      "cell_type": "code",
      "source": [
        "basic_model.compile(loss='binary_crossentropy', optimizer=adam, metrics=[\"accuracy\"])"
      ],
      "metadata": {
        "id": "s32Ckex5Kkny"
      },
      "execution_count": 49,
      "outputs": []
    },
    {
      "cell_type": "code",
      "source": [
        "basic_model.fit(X_train, y_train, epochs=100)"
      ],
      "metadata": {
        "colab": {
          "base_uri": "https://localhost:8080/"
        },
        "id": "9PJUojumKomT",
        "outputId": "1e93f8a5-85fe-49fc-cd4f-e3177b6cfec0"
      },
      "execution_count": 50,
      "outputs": [
        {
          "output_type": "stream",
          "name": "stdout",
          "text": [
            "Epoch 1/100\n",
            "82/82 [==============================] - 1s 3ms/step - loss: 90.1462 - accuracy: 0.7785\n",
            "Epoch 2/100\n",
            "82/82 [==============================] - 0s 3ms/step - loss: 13.8912 - accuracy: 0.7862\n",
            "Epoch 3/100\n",
            "82/82 [==============================] - 0s 3ms/step - loss: 7.5968 - accuracy: 0.7865\n",
            "Epoch 4/100\n",
            "82/82 [==============================] - 0s 4ms/step - loss: 7.8847 - accuracy: 0.7869\n",
            "Epoch 5/100\n",
            "82/82 [==============================] - 0s 3ms/step - loss: 6.3788 - accuracy: 0.7854\n",
            "Epoch 6/100\n",
            "82/82 [==============================] - 0s 3ms/step - loss: 7.7904 - accuracy: 0.7838\n",
            "Epoch 7/100\n",
            "82/82 [==============================] - 0s 3ms/step - loss: 11.9155 - accuracy: 0.7723\n",
            "Epoch 8/100\n",
            "82/82 [==============================] - 0s 3ms/step - loss: 18.3385 - accuracy: 0.7877\n",
            "Epoch 9/100\n",
            "82/82 [==============================] - 0s 3ms/step - loss: 6.9870 - accuracy: 0.8058\n",
            "Epoch 10/100\n",
            "82/82 [==============================] - 0s 3ms/step - loss: 5.8389 - accuracy: 0.7862\n",
            "Epoch 11/100\n",
            "82/82 [==============================] - 0s 3ms/step - loss: 7.6158 - accuracy: 0.7942\n",
            "Epoch 12/100\n",
            "82/82 [==============================] - 0s 3ms/step - loss: 4.6996 - accuracy: 0.8012\n",
            "Epoch 13/100\n",
            "82/82 [==============================] - 0s 3ms/step - loss: 5.8244 - accuracy: 0.7854\n",
            "Epoch 14/100\n",
            "82/82 [==============================] - 0s 3ms/step - loss: 9.0111 - accuracy: 0.7854\n",
            "Epoch 15/100\n",
            "82/82 [==============================] - 0s 3ms/step - loss: 7.6093 - accuracy: 0.7900\n",
            "Epoch 16/100\n",
            "82/82 [==============================] - 0s 3ms/step - loss: 5.5608 - accuracy: 0.7904\n",
            "Epoch 17/100\n",
            "82/82 [==============================] - 0s 3ms/step - loss: 6.8160 - accuracy: 0.7981\n",
            "Epoch 18/100\n",
            "82/82 [==============================] - 0s 3ms/step - loss: 5.1058 - accuracy: 0.7896\n",
            "Epoch 19/100\n",
            "82/82 [==============================] - 0s 3ms/step - loss: 6.5931 - accuracy: 0.8015\n",
            "Epoch 20/100\n",
            "82/82 [==============================] - 0s 3ms/step - loss: 7.3682 - accuracy: 0.7954\n",
            "Epoch 21/100\n",
            "82/82 [==============================] - 0s 3ms/step - loss: 8.5071 - accuracy: 0.7885\n",
            "Epoch 22/100\n",
            "82/82 [==============================] - 0s 3ms/step - loss: 5.2801 - accuracy: 0.8042\n",
            "Epoch 23/100\n",
            "82/82 [==============================] - 0s 3ms/step - loss: 6.4541 - accuracy: 0.7915\n",
            "Epoch 24/100\n",
            "82/82 [==============================] - 0s 3ms/step - loss: 7.9081 - accuracy: 0.7935\n",
            "Epoch 25/100\n",
            "82/82 [==============================] - 0s 3ms/step - loss: 7.6881 - accuracy: 0.7915\n",
            "Epoch 26/100\n",
            "82/82 [==============================] - 0s 3ms/step - loss: 6.7448 - accuracy: 0.8042\n",
            "Epoch 27/100\n",
            "82/82 [==============================] - 0s 3ms/step - loss: 4.4091 - accuracy: 0.8177\n",
            "Epoch 28/100\n",
            "82/82 [==============================] - 0s 3ms/step - loss: 4.9470 - accuracy: 0.8085\n",
            "Epoch 29/100\n",
            "82/82 [==============================] - 0s 3ms/step - loss: 4.4673 - accuracy: 0.8131\n",
            "Epoch 30/100\n",
            "82/82 [==============================] - 0s 3ms/step - loss: 8.6936 - accuracy: 0.7992\n",
            "Epoch 31/100\n",
            "82/82 [==============================] - 0s 3ms/step - loss: 7.5161 - accuracy: 0.8004\n",
            "Epoch 32/100\n",
            "82/82 [==============================] - 0s 3ms/step - loss: 4.4166 - accuracy: 0.8158\n",
            "Epoch 33/100\n",
            "82/82 [==============================] - 0s 3ms/step - loss: 6.8271 - accuracy: 0.7962\n",
            "Epoch 34/100\n",
            "82/82 [==============================] - 0s 4ms/step - loss: 4.2187 - accuracy: 0.8131\n",
            "Epoch 35/100\n",
            "82/82 [==============================] - 0s 4ms/step - loss: 4.1259 - accuracy: 0.8038\n",
            "Epoch 36/100\n",
            "82/82 [==============================] - 0s 4ms/step - loss: 8.6929 - accuracy: 0.7850\n",
            "Epoch 37/100\n",
            "82/82 [==============================] - 0s 4ms/step - loss: 6.4588 - accuracy: 0.8212\n",
            "Epoch 38/100\n",
            "82/82 [==============================] - 0s 4ms/step - loss: 5.8888 - accuracy: 0.7900\n",
            "Epoch 39/100\n",
            "82/82 [==============================] - 0s 4ms/step - loss: 13.9897 - accuracy: 0.7865\n",
            "Epoch 40/100\n",
            "82/82 [==============================] - 0s 4ms/step - loss: 7.7462 - accuracy: 0.7938\n",
            "Epoch 41/100\n",
            "82/82 [==============================] - 0s 4ms/step - loss: 4.3379 - accuracy: 0.8154\n",
            "Epoch 42/100\n",
            "82/82 [==============================] - 0s 4ms/step - loss: 3.0628 - accuracy: 0.8238\n",
            "Epoch 43/100\n",
            "82/82 [==============================] - 0s 4ms/step - loss: 4.2979 - accuracy: 0.8104\n",
            "Epoch 44/100\n",
            "82/82 [==============================] - 0s 4ms/step - loss: 4.1080 - accuracy: 0.8012\n",
            "Epoch 45/100\n",
            "82/82 [==============================] - 0s 4ms/step - loss: 5.7039 - accuracy: 0.8012\n",
            "Epoch 46/100\n",
            "82/82 [==============================] - 0s 4ms/step - loss: 4.4639 - accuracy: 0.8100\n",
            "Epoch 47/100\n",
            "82/82 [==============================] - 0s 4ms/step - loss: 7.4919 - accuracy: 0.8008\n",
            "Epoch 48/100\n",
            "82/82 [==============================] - 0s 4ms/step - loss: 4.9602 - accuracy: 0.8138\n",
            "Epoch 49/100\n",
            "82/82 [==============================] - 0s 4ms/step - loss: 7.1098 - accuracy: 0.8062\n",
            "Epoch 50/100\n",
            "82/82 [==============================] - 0s 4ms/step - loss: 7.4326 - accuracy: 0.7931\n",
            "Epoch 51/100\n",
            "82/82 [==============================] - 0s 3ms/step - loss: 3.5535 - accuracy: 0.8154\n",
            "Epoch 52/100\n",
            "82/82 [==============================] - 0s 3ms/step - loss: 4.1710 - accuracy: 0.8254\n",
            "Epoch 53/100\n",
            "82/82 [==============================] - 0s 3ms/step - loss: 21.1664 - accuracy: 0.7688\n",
            "Epoch 54/100\n",
            "82/82 [==============================] - 0s 3ms/step - loss: 5.3857 - accuracy: 0.8112\n",
            "Epoch 55/100\n",
            "82/82 [==============================] - 0s 3ms/step - loss: 3.7712 - accuracy: 0.8142\n",
            "Epoch 56/100\n",
            "82/82 [==============================] - 0s 3ms/step - loss: 5.0256 - accuracy: 0.8108\n",
            "Epoch 57/100\n",
            "82/82 [==============================] - 0s 3ms/step - loss: 5.7226 - accuracy: 0.7988\n",
            "Epoch 58/100\n",
            "82/82 [==============================] - 0s 3ms/step - loss: 4.9953 - accuracy: 0.7950\n",
            "Epoch 59/100\n",
            "82/82 [==============================] - 0s 3ms/step - loss: 2.5541 - accuracy: 0.8173\n",
            "Epoch 60/100\n",
            "82/82 [==============================] - 0s 3ms/step - loss: 6.4132 - accuracy: 0.8069\n",
            "Epoch 61/100\n",
            "82/82 [==============================] - 0s 3ms/step - loss: 4.5395 - accuracy: 0.8015\n",
            "Epoch 62/100\n",
            "82/82 [==============================] - 0s 3ms/step - loss: 5.7616 - accuracy: 0.8073\n",
            "Epoch 63/100\n",
            "82/82 [==============================] - 0s 3ms/step - loss: 6.2602 - accuracy: 0.7862\n",
            "Epoch 64/100\n",
            "82/82 [==============================] - 0s 3ms/step - loss: 8.0649 - accuracy: 0.7912\n",
            "Epoch 65/100\n",
            "82/82 [==============================] - 0s 3ms/step - loss: 3.1944 - accuracy: 0.8223\n",
            "Epoch 66/100\n",
            "82/82 [==============================] - 0s 3ms/step - loss: 7.2749 - accuracy: 0.7900\n",
            "Epoch 67/100\n",
            "82/82 [==============================] - 0s 3ms/step - loss: 4.3082 - accuracy: 0.8146\n",
            "Epoch 68/100\n",
            "82/82 [==============================] - 0s 3ms/step - loss: 5.9610 - accuracy: 0.8112\n",
            "Epoch 69/100\n",
            "82/82 [==============================] - 0s 3ms/step - loss: 4.0085 - accuracy: 0.8127\n",
            "Epoch 70/100\n",
            "82/82 [==============================] - 0s 3ms/step - loss: 5.1390 - accuracy: 0.8035\n",
            "Epoch 71/100\n",
            "82/82 [==============================] - 0s 3ms/step - loss: 5.2792 - accuracy: 0.8100\n",
            "Epoch 72/100\n",
            "82/82 [==============================] - 0s 3ms/step - loss: 6.4178 - accuracy: 0.7938\n",
            "Epoch 73/100\n",
            "82/82 [==============================] - 0s 3ms/step - loss: 3.5762 - accuracy: 0.8162\n",
            "Epoch 74/100\n",
            "82/82 [==============================] - 0s 3ms/step - loss: 3.9975 - accuracy: 0.8354\n",
            "Epoch 75/100\n",
            "82/82 [==============================] - 0s 3ms/step - loss: 8.1907 - accuracy: 0.8081\n",
            "Epoch 76/100\n",
            "82/82 [==============================] - 0s 3ms/step - loss: 6.3696 - accuracy: 0.7985\n",
            "Epoch 77/100\n",
            "82/82 [==============================] - 0s 3ms/step - loss: 3.4842 - accuracy: 0.8273\n",
            "Epoch 78/100\n",
            "82/82 [==============================] - 0s 3ms/step - loss: 9.2880 - accuracy: 0.7931\n",
            "Epoch 79/100\n",
            "82/82 [==============================] - 0s 3ms/step - loss: 5.9154 - accuracy: 0.8100\n",
            "Epoch 80/100\n",
            "82/82 [==============================] - 0s 3ms/step - loss: 4.9013 - accuracy: 0.8054\n",
            "Epoch 81/100\n",
            "82/82 [==============================] - 0s 3ms/step - loss: 7.0340 - accuracy: 0.7935\n",
            "Epoch 82/100\n",
            "82/82 [==============================] - 0s 3ms/step - loss: 3.9627 - accuracy: 0.8185\n",
            "Epoch 83/100\n",
            "82/82 [==============================] - 0s 3ms/step - loss: 4.9611 - accuracy: 0.8169\n",
            "Epoch 84/100\n",
            "82/82 [==============================] - 0s 3ms/step - loss: 4.4136 - accuracy: 0.8081\n",
            "Epoch 85/100\n",
            "82/82 [==============================] - 0s 3ms/step - loss: 5.6878 - accuracy: 0.8088\n",
            "Epoch 86/100\n",
            "82/82 [==============================] - 0s 3ms/step - loss: 6.8311 - accuracy: 0.7973\n",
            "Epoch 87/100\n",
            "82/82 [==============================] - 0s 3ms/step - loss: 2.6199 - accuracy: 0.8300\n",
            "Epoch 88/100\n",
            "82/82 [==============================] - 0s 4ms/step - loss: 6.1868 - accuracy: 0.7958\n",
            "Epoch 89/100\n",
            "82/82 [==============================] - 0s 5ms/step - loss: 4.1649 - accuracy: 0.8119\n",
            "Epoch 90/100\n",
            "82/82 [==============================] - 0s 4ms/step - loss: 9.1983 - accuracy: 0.7935\n",
            "Epoch 91/100\n",
            "82/82 [==============================] - 0s 4ms/step - loss: 4.8588 - accuracy: 0.8092\n",
            "Epoch 92/100\n",
            "82/82 [==============================] - 0s 5ms/step - loss: 7.2463 - accuracy: 0.7992\n",
            "Epoch 93/100\n",
            "82/82 [==============================] - 0s 4ms/step - loss: 4.2588 - accuracy: 0.8273\n",
            "Epoch 94/100\n",
            "82/82 [==============================] - 0s 4ms/step - loss: 3.9619 - accuracy: 0.8204\n",
            "Epoch 95/100\n",
            "82/82 [==============================] - 0s 5ms/step - loss: 3.2260 - accuracy: 0.8169\n",
            "Epoch 96/100\n",
            "82/82 [==============================] - 0s 4ms/step - loss: 3.0743 - accuracy: 0.8273\n",
            "Epoch 97/100\n",
            "82/82 [==============================] - 0s 4ms/step - loss: 6.6648 - accuracy: 0.7915\n",
            "Epoch 98/100\n",
            "82/82 [==============================] - 0s 4ms/step - loss: 3.2475 - accuracy: 0.8235\n",
            "Epoch 99/100\n",
            "82/82 [==============================] - 0s 4ms/step - loss: 5.7451 - accuracy: 0.8054\n",
            "Epoch 100/100\n",
            "82/82 [==============================] - 0s 4ms/step - loss: 2.7346 - accuracy: 0.8327\n"
          ]
        },
        {
          "output_type": "execute_result",
          "data": {
            "text/plain": [
              "<keras.src.callbacks.History at 0x7923bc559a80>"
            ]
          },
          "metadata": {},
          "execution_count": 50
        }
      ]
    },
    {
      "cell_type": "code",
      "source": [
        "loss_and_metrics = basic_model.evaluate(X_test, y_test)\n",
        "print(loss_and_metrics)\n",
        "print('Loss = ',loss_and_metrics[0])\n",
        "print('Accuracy = ',loss_and_metrics[1])"
      ],
      "metadata": {
        "colab": {
          "base_uri": "https://localhost:8080/"
        },
        "id": "vSfFIJc9KtL7",
        "outputId": "c6df45f1-72f2-447d-aff5-88e1f87dbb3c"
      },
      "execution_count": 51,
      "outputs": [
        {
          "output_type": "stream",
          "name": "stdout",
          "text": [
            "21/21 [==============================] - 0s 2ms/step - loss: 2.4368 - accuracy: 0.8631\n",
            "[2.4368398189544678, 0.86307692527771]\n",
            "Loss =  2.4368398189544678\n",
            "Accuracy =  0.86307692527771\n"
          ]
        }
      ]
    },
    {
      "cell_type": "code",
      "source": [],
      "metadata": {
        "id": "px72gBBvK1ux"
      },
      "execution_count": null,
      "outputs": []
    }
  ]
}